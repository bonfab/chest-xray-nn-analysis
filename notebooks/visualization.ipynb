{
 "cells": [
  {
   "cell_type": "code",
   "execution_count": 57,
   "metadata": {},
   "outputs": [],
   "source": [
    "import numpy as np\n",
    "import matplotlib.pyplot as plt\n",
    "import pandas as pd\n",
    "import seaborn as sns\n",
    "sns.set(style=\"ticks\")"
   ]
  },
  {
   "cell_type": "code",
   "execution_count": 58,
   "metadata": {},
   "outputs": [
    {
     "data": {
      "image/png": "[encoded data removed]",
      "text/plain": [
       "<Figure size 720x720 with 1 Axes>"
      ]
     },
     "metadata": {},
     "output_type": "display_data"
    }
   ],
   "source": [
    "data = pd.read_csv('Data/CheXpert-v1.0/train.csv')\n",
    "fig, ax = plt.subplots(figsize=(10,10))\n",
    "g = sns.scatterplot(x='width', y='height', hue='Frontal/Lateral', data=data)"
   ]
  },
  {
   "cell_type": "code",
   "execution_count": 59,
   "metadata": {},
   "outputs": [
    {
     "data": {
      "image/png": "[encoded data removed]",
      "text/plain": [
       "<Figure size 720x720 with 1 Axes>"
      ]
     },
     "metadata": {},
     "output_type": "display_data"
    }
   ],
   "source": [
    "data_frontal = data.iloc[np.where(data['Frontal/Lateral'] == 'Frontal')]\n",
    "fig, ax = plt.subplots(figsize=(10,10))\n",
    "g = sns.scatterplot(x='width', y='height', data=data_frontal)\n",
    "\n",
    "ax.set_xlim([500,4500])\n",
    "ax.set_ylim([500,4500])\n",
    "\n",
    "upper_x = np.linspace(500,4500,100)\n",
    "upper_y = upper_x\n",
    "plt.plot(upper_x, upper_y, color='r')\n",
    "\n",
    "lower_x = np.linspace(500,4500,100)\n",
    "upper_y = 3/4 * upper_x\n",
    "plt.plot(upper_x, upper_y, color='r')\n",
    "\n",
    "plt.show()"
   ]
  },
  {
   "cell_type": "code",
   "execution_count": 60,
   "metadata": {
    "scrolled": true
   },
   "outputs": [
    {
     "data": {
      "text/plain": [
       "0.024268820637920293"
      ]
     },
     "execution_count": 60,
     "metadata": {},
     "output_type": "execute_result"
    }
   ],
   "source": [
    "ratio_greater_1 = (data_frontal['height'] / data_frontal['width']) > 1\n",
    "ratio_lower_3_4 = (data_frontal['height'] / data_frontal['width']) < 3/4\n",
    "(ratio_lower_3_4.sum() + ratio_greater_1.sum())/data_frontal.shape[0]"
   ]
  },
  {
   "cell_type": "code",
   "execution_count": 61,
   "metadata": {},
   "outputs": [
    {
     "name": "stderr",
     "output_type": "stream",
     "text": [
      "/usr/local/lib/python3.6/dist-packages/pandas/core/frame.py:2963: SettingWithCopyWarning: \n",
      "A value is trying to be set on a copy of a slice from a DataFrame.\n",
      "Try using .loc[row_indexer,col_indexer] = value instead\n",
      "\n",
      "See the caveats in the documentation: https://pandas.pydata.org/pandas-docs/stable/user_guide/indexing.html#returning-a-view-versus-a-copy\n",
      "  self[k1] = value[k2]\n",
      "/usr/local/lib/python3.6/dist-packages/ipykernel_launcher.py:12: SettingWithCopyWarning: \n",
      "A value is trying to be set on a copy of a slice from a DataFrame.\n",
      "Try using .loc[row_indexer,col_indexer] = value instead\n",
      "\n",
      "See the caveats in the documentation: https://pandas.pydata.org/pandas-docs/stable/user_guide/indexing.html#returning-a-view-versus-a-copy\n",
      "  if sys.path[0] == '':\n"
     ]
    },
    {
     "data": {
      "image/png": "[encoded data removed]",
      "text/plain": [
       "<Figure size 1820.35x576 with 1 Axes>"
      ]
     },
     "metadata": {},
     "output_type": "display_data"
    }
   ],
   "source": [
    "import datasets as ds\n",
    "patho = ds.PATHOLOGIES\n",
    "data_frontal = data.iloc[np.where(data['Frontal/Lateral'] == 'Frontal')]\n",
    "\n",
    "data_frontal[patho + ['No Finding']] = data_frontal[patho + ['No Finding']].astype('category')\n",
    "\n",
    "diagnosis_dict = {0.: 'absent', 1.: 'uncertain', 2.:'present'}\n",
    "\n",
    "#data_frontal[patho].cat.rename_categories(diagnosis_dict)\n",
    "\n",
    "for p in patho:\n",
    "    data_frontal[p] = data_frontal[p].cat.rename_categories(diagnosis_dict)\n",
    "\n",
    "join = []    \n",
    "for p in patho:    \n",
    "    join.append(data_frontal[p].value_counts())\n",
    "\n",
    "class_dist = pd.concat(join, axis=1)\n",
    "class_dist.index.name = 'Diagnosis'\n",
    "class_dist.reset_index(inplace=True)\n",
    "\n",
    "melted = pd.melt(class_dist, id_vars=\"Diagnosis\", var_name='Pathology', value_name='Occurence')\n",
    "g = sns.catplot(x='Pathology', y='Occurence', hue='Diagnosis', data=melted, kind='bar', height=8, aspect=3)"
   ]
  },
  {
   "cell_type": "code",
   "execution_count": 62,
   "metadata": {},
   "outputs": [
    {
     "data": {
      "text/html": [
       "<div>\n",
       "<style scoped>\n",
       "    .dataframe tbody tr th:only-of-type {\n",
       "        vertical-align: middle;\n",
       "    }\n",
       "\n",
       "    .dataframe tbody tr th {\n",
       "        vertical-align: top;\n",
       "    }\n",
       "\n",
       "    .dataframe thead th {\n",
       "        text-align: right;\n",
       "    }\n",
       "</style>\n",
       "<table border=\"1\" class=\"dataframe\">\n",
       "  <thead>\n",
       "    <tr style=\"text-align: right;\">\n",
       "      <th></th>\n",
       "      <th>Diagnosis</th>\n",
       "      <th>Enlarged Cardiomediastinum</th>\n",
       "      <th>Cardiomegaly</th>\n",
       "      <th>Lung Opacity</th>\n",
       "      <th>Lung Lesion</th>\n",
       "      <th>Edema</th>\n",
       "      <th>Consolidation</th>\n",
       "      <th>Pneumonia</th>\n",
       "      <th>Atelectasis</th>\n",
       "      <th>Pneumothorax</th>\n",
       "      <th>Pleural Effusion</th>\n",
       "      <th>Pleural Other</th>\n",
       "      <th>Fracture</th>\n",
       "      <th>Support Devices</th>\n",
       "    </tr>\n",
       "  </thead>\n",
       "  <tbody>\n",
       "    <tr>\n",
       "      <th>0</th>\n",
       "      <td>absent</td>\n",
       "      <td>166495</td>\n",
       "      <td>159773</td>\n",
       "      <td>91765</td>\n",
       "      <td>183211</td>\n",
       "      <td>125437</td>\n",
       "      <td>158436</td>\n",
       "      <td>184477</td>\n",
       "      <td>160282</td>\n",
       "      <td>125511</td>\n",
       "      <td>88829</td>\n",
       "      <td>188313</td>\n",
       "      <td>181598</td>\n",
       "      <td>78517</td>\n",
       "    </tr>\n",
       "    <tr>\n",
       "      <th>1</th>\n",
       "      <td>uncertain</td>\n",
       "      <td>15345</td>\n",
       "      <td>7869</td>\n",
       "      <td>5051</td>\n",
       "      <td>776</td>\n",
       "      <td>15915</td>\n",
       "      <td>19608</td>\n",
       "      <td>1875</td>\n",
       "      <td>1025</td>\n",
       "      <td>47823</td>\n",
       "      <td>25299</td>\n",
       "      <td>209</td>\n",
       "      <td>1993</td>\n",
       "      <td>5340</td>\n",
       "    </tr>\n",
       "    <tr>\n",
       "      <th>2</th>\n",
       "      <td>present</td>\n",
       "      <td>9187</td>\n",
       "      <td>23385</td>\n",
       "      <td>94211</td>\n",
       "      <td>7040</td>\n",
       "      <td>49675</td>\n",
       "      <td>12983</td>\n",
       "      <td>4675</td>\n",
       "      <td>29720</td>\n",
       "      <td>17693</td>\n",
       "      <td>76899</td>\n",
       "      <td>2505</td>\n",
       "      <td>7436</td>\n",
       "      <td>107170</td>\n",
       "    </tr>\n",
       "  </tbody>\n",
       "</table>\n",
       "</div>"
      ],
      "text/plain": [
       "   Diagnosis  Enlarged Cardiomediastinum  Cardiomegaly  Lung Opacity  \\\n",
       "0     absent                      166495        159773         91765   \n",
       "1  uncertain                       15345          7869          5051   \n",
       "2    present                        9187         23385         94211   \n",
       "\n",
       "   Lung Lesion   Edema  Consolidation  Pneumonia  Atelectasis  Pneumothorax  \\\n",
       "0       183211  125437         158436     184477       160282        125511   \n",
       "1          776   15915          19608       1875         1025         47823   \n",
       "2         7040   49675          12983       4675        29720         17693   \n",
       "\n",
       "   Pleural Effusion  Pleural Other  Fracture  Support Devices  \n",
       "0             88829         188313    181598            78517  \n",
       "1             25299            209      1993             5340  \n",
       "2             76899           2505      7436           107170  "
      ]
     },
     "execution_count": 62,
     "metadata": {},
     "output_type": "execute_result"
    }
   ],
   "source": [
    "class_dist"
   ]
  },
  {
   "cell_type": "code",
   "execution_count": 72,
   "metadata": {},
   "outputs": [
    {
     "name": "stdout",
     "output_type": "stream",
     "text": [
      "531.0\n",
      "513.0\n",
      "698.0\n",
      "297.0\n"
     ]
    },
    {
     "data": {
      "image/png": "[encoded data removed]",
      "text/plain": [
       "<Figure size 1809.85x576 with 1 Axes>"
      ]
     },
     "metadata": {},
     "output_type": "display_data"
    }
   ],
   "source": [
    "data_reduced = pd.read_csv('Data/CheXpert-v1.0-reduced/val.csv')\n",
    "\n",
    "patho = ['Lung Opacity', 'Pleural Effusion', 'Support Devices', 'Atelectasis']\n",
    "\n",
    "\n",
    "for p in patho:\n",
    "    print(data_reduced[p].sum())\n",
    "\n",
    "data_reduced[patho + ['No Finding']] = data_reduced[patho + ['No Finding']].astype('category')\n",
    "\n",
    "diagnosis_dict = {0.: 'absent', 1.: 'present'}\n",
    "\n",
    "#data_frontal[patho].cat.rename_categories(diagnosis_dict)\n",
    "\n",
    "for p in patho:\n",
    "    data_reduced.loc[:,p] = data_reduced[p].cat.rename_categories(diagnosis_dict)\n",
    "\n",
    "join = []    \n",
    "for p in patho:    \n",
    "    join.append(data_reduced[p].value_counts())\n",
    "\n",
    "class_dist = pd.concat(join, axis=1)\n",
    "class_dist.index.name = 'Diagnosis'\n",
    "class_dist.reset_index(inplace=True)\n",
    "\n",
    "melted = pd.melt(class_dist, id_vars=\"Diagnosis\", var_name='Pathology', value_name='Occurence')\n",
    "g = sns.catplot(x='Pathology', y='Occurence', hue='Diagnosis', data=melted, kind='bar', height=8, aspect=3)"
   ]
  },
  {
   "cell_type": "code",
   "execution_count": 73,
   "metadata": {},
   "outputs": [
    {
     "data": {
      "text/html": [
       "<div>\n",
       "<style scoped>\n",
       "    .dataframe tbody tr th:only-of-type {\n",
       "        vertical-align: middle;\n",
       "    }\n",
       "\n",
       "    .dataframe tbody tr th {\n",
       "        vertical-align: top;\n",
       "    }\n",
       "\n",
       "    .dataframe thead th {\n",
       "        text-align: right;\n",
       "    }\n",
       "</style>\n",
       "<table border=\"1\" class=\"dataframe\">\n",
       "  <thead>\n",
       "    <tr style=\"text-align: right;\">\n",
       "      <th></th>\n",
       "      <th>Diagnosis</th>\n",
       "      <th>Lung Opacity</th>\n",
       "      <th>Pleural Effusion</th>\n",
       "      <th>Support Devices</th>\n",
       "      <th>Atelectasis</th>\n",
       "    </tr>\n",
       "  </thead>\n",
       "  <tbody>\n",
       "    <tr>\n",
       "      <th>0</th>\n",
       "      <td>absent</td>\n",
       "      <td>469</td>\n",
       "      <td>487</td>\n",
       "      <td>302</td>\n",
       "      <td>703</td>\n",
       "    </tr>\n",
       "    <tr>\n",
       "      <th>1</th>\n",
       "      <td>present</td>\n",
       "      <td>531</td>\n",
       "      <td>513</td>\n",
       "      <td>698</td>\n",
       "      <td>297</td>\n",
       "    </tr>\n",
       "  </tbody>\n",
       "</table>\n",
       "</div>"
      ],
      "text/plain": [
       "  Diagnosis  Lung Opacity  Pleural Effusion  Support Devices  Atelectasis\n",
       "0    absent           469               487              302          703\n",
       "1   present           531               513              698          297"
      ]
     },
     "execution_count": 73,
     "metadata": {},
     "output_type": "execute_result"
    }
   ],
   "source": [
    "class_dist"
   ]
  }
 ],
 "metadata": {
  "kernelspec": {
   "display_name": "Python 3",
   "language": "python",
   "name": "python3"
  },
  "language_info": {
   "codemirror_mode": {
    "name": "ipython",
    "version": 3
   },
   "file_extension": ".py",
   "mimetype": "text/x-python",
   "name": "python",
   "nbconvert_exporter": "python",
   "pygments_lexer": "ipython3",
   "version": "3.6.9"
  }
 },
 "nbformat": 4,
 "nbformat_minor": 4
}

